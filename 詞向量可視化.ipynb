{
 "cells": [
  {
   "cell_type": "code",
   "execution_count": 4,
   "metadata": {},
   "outputs": [
    {
     "name": "stderr",
     "output_type": "stream",
     "text": [
      "/usr/local/envs/python37/lib/python3.7/site-packages/ipykernel_launcher.py:13: DeprecationWarning: Call to deprecated `__getitem__` (Method will be removed in 4.0.0, use self.wv.__getitem__() instead).\n",
      "  del sys.path[0]\n"
     ]
    },
    {
     "name": "stdout",
     "output_type": "stream",
     "text": [
      "visualize/w2x_metadata.ckpt\n",
      "Run `tensorboard --logdir=visualize/` to run visualize result on tensorboard\n"
     ]
    }
   ],
   "source": [
    "import sys, os\n",
    "from gensim.models import Word2Vec\n",
    "import tensorflow as tf\n",
    "import numpy as np\n",
    "from tensorboard.plugins import projector\n",
    "\n",
    "def visualize(model, TENSORBOARD_DIR):\n",
    "    meta_file = \"w2x_metadata.tsv\"\n",
    "    placeholder = np.zeros((len(model.wv.index2word), dimention))\n",
    "\n",
    "    with open(os.path.join(TENSORBOARD_DIR,meta_file), 'wb') as file_metadata:\n",
    "        for i, word in enumerate(model.wv.index2word):\n",
    "            placeholder[i] = model[word]\n",
    "            # temporary solution for https://github.com/tensorflow/tensorflow/issues/9094\n",
    "            if word == '':\n",
    "                print(\"Emply Line, should replecaed by any thing else, or will cause a bug of tensorboard\")\n",
    "                file_metadata.write(\"{0}\".format('<Empty Line>').encode('utf-8') + b'\\n')\n",
    "            else:\n",
    "                file_metadata.write(\"{0}\".format(word).encode('utf-8') + b'\\n')\n",
    "\n",
    "    embeddings = tf.Variable(placeholder, name='embeddings')\n",
    "    CHECKPOINT_FILE = TENSORBOARD_DIR + 'w2x_metadata.ckpt'\n",
    "    print(CHECKPOINT_FILE)\n",
    "    ckpt = tf.train.Checkpoint(embeddings=embeddings)\n",
    "    ckpt.save(CHECKPOINT_FILE)\n",
    "\n",
    "    reader = tf.train.load_checkpoint(TENSORBOARD_DIR)\n",
    "    map = reader.get_variable_to_shape_map()\n",
    "    key_to_use = \"\"\n",
    "    for key in map:\n",
    "        if \"embeddings\" in key:\n",
    "            key_to_use = key\n",
    "\n",
    "    config = projector.ProjectorConfig()\n",
    "    embedding = config.embeddings.add()\n",
    "    embedding.tensor_name = key_to_use\n",
    "    embedding.metadata_path = meta_file\n",
    "\n",
    "    projector.visualize_embeddings(TENSORBOARD_DIR, config)\n",
    "    print('Run `tensorboard --logdir={0} --host 192.168.1.41 --port 6006` to run visualize result on tensorboard'.format(TENSORBOARD_DIR))\n",
    "    \n",
    "# if __name__ == \"__main__\":\n",
    "model = Word2Vec.load(\"model/word2vec_model_300\")\n",
    "visualize(model,\"visualize/\")"
   ]
  }
 ],
 "metadata": {
  "kernelspec": {
   "display_name": "Python 3",
   "language": "python",
   "name": "python3"
  },
  "language_info": {
   "codemirror_mode": {
    "name": "ipython",
    "version": 3
   },
   "file_extension": ".py",
   "mimetype": "text/x-python",
   "name": "python",
   "nbconvert_exporter": "python",
   "pygments_lexer": "ipython3",
   "version": "3.7.6"
  },
  "toc": {
   "base_numbering": 1,
   "nav_menu": {},
   "number_sections": true,
   "sideBar": true,
   "skip_h1_title": false,
   "title_cell": "Table of Contents",
   "title_sidebar": "Contents",
   "toc_cell": false,
   "toc_position": {},
   "toc_section_display": true,
   "toc_window_display": false
  },
  "varInspector": {
   "cols": {
    "lenName": 16,
    "lenType": 16,
    "lenVar": 40
   },
   "kernels_config": {
    "python": {
     "delete_cmd_postfix": "",
     "delete_cmd_prefix": "del ",
     "library": "var_list.py",
     "varRefreshCmd": "print(var_dic_list())"
    },
    "r": {
     "delete_cmd_postfix": ") ",
     "delete_cmd_prefix": "rm(",
     "library": "var_list.r",
     "varRefreshCmd": "cat(var_dic_list()) "
    }
   },
   "types_to_exclude": [
    "module",
    "function",
    "builtin_function_or_method",
    "instance",
    "_Feature"
   ],
   "window_display": false
  }
 },
 "nbformat": 4,
 "nbformat_minor": 2
}
